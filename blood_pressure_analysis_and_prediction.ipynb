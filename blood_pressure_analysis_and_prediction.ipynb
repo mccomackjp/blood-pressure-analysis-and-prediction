{
 "cells": [
  {
   "cell_type": "markdown",
   "metadata": {},
   "source": [
    "# Blood Pressure Analysis and Prediction\n",
    "## Josh McComack\n",
    "## Objectives\n",
    "I wish to investigate the feasibility of predicting systolic and diastolic blood pressure based on the [National Health and Nutrition Examination Survey](https://www.kaggle.com/cdc/national-health-and-nutrition-examination-survey/home) (NHANES) data set from 2013-2014 found on kaggle.com. The primary questions I wish to answer are:\n",
    "1. Which variables from the survey are most predictive empirically and do they correspond to the what mainstream literature identifies as key factors in blood pressure levels?\n",
    "2. Comparing scikit-learn’s SGDRegressor, MultiTaskLasso, and RandomForestRegressor, which regression model offers the best predictions on this data set?\n",
    "3. Does the best model perform well enough to serve as a possible supplementary or alternative way of “measuring” blood pressure?\n"
   ]
  },
  {
   "cell_type": "markdown",
   "metadata": {},
   "source": [
    "## Import Libraries and Data\n",
    "First we will import our libraries and data. The NHANES data is stored in 6 seperate csv files."
   ]
  },
  {
   "cell_type": "code",
   "execution_count": 2,
   "metadata": {},
   "outputs": [],
   "source": [
    "# Import libraries\n",
    "import pandas as pd\n",
    "import numpy as np\n",
    "import seaborn as sns\n",
    "import matplotlib.pyplot as plt\n",
    "%matplotlib inline"
   ]
  },
  {
   "cell_type": "code",
   "execution_count": 3,
   "metadata": {},
   "outputs": [],
   "source": [
    "# Load Data\n",
    "path = \"./national-health-and-nutrition-examination-survey/\"\n",
    "demographic_df = pd.read_csv(path + \"demographic.csv\")\n",
    "diet_df = pd.read_csv(path + \"diet.csv\")\n",
    "exam_df = pd.read_csv(path + \"examination.csv\")\n",
    "labs_df = pd.read_csv(path + \"labs.csv\")\n",
    "# There seems to be a non UTF-8 Character in the medications data set.\n",
    "meds_df = pd.read_csv(path + \"medications.csv\", encoding = \"latin1\")\n",
    "questionnaire_df = pd.read_csv(path + \"questionnaire.csv\")"
   ]
  },
  {
   "cell_type": "code",
   "execution_count": 4,
   "metadata": {},
   "outputs": [
    {
     "data": {
      "text/html": [
       "<div>\n",
       "<style scoped>\n",
       "    .dataframe tbody tr th:only-of-type {\n",
       "        vertical-align: middle;\n",
       "    }\n",
       "\n",
       "    .dataframe tbody tr th {\n",
       "        vertical-align: top;\n",
       "    }\n",
       "\n",
       "    .dataframe thead th {\n",
       "        text-align: right;\n",
       "    }\n",
       "</style>\n",
       "<table border=\"1\" class=\"dataframe\">\n",
       "  <thead>\n",
       "    <tr style=\"text-align: right;\">\n",
       "      <th></th>\n",
       "      <th>SEQN</th>\n",
       "      <th>SDDSRVYR</th>\n",
       "      <th>RIDSTATR</th>\n",
       "      <th>RIAGENDR</th>\n",
       "      <th>RIDAGEYR</th>\n",
       "      <th>RIDAGEMN</th>\n",
       "      <th>RIDRETH1</th>\n",
       "      <th>RIDRETH3</th>\n",
       "      <th>RIDEXMON</th>\n",
       "      <th>RIDEXAGM</th>\n",
       "      <th>...</th>\n",
       "      <th>WHD080U</th>\n",
       "      <th>WHD080L</th>\n",
       "      <th>WHD110</th>\n",
       "      <th>WHD120</th>\n",
       "      <th>WHD130</th>\n",
       "      <th>WHD140</th>\n",
       "      <th>WHQ150</th>\n",
       "      <th>WHQ030M</th>\n",
       "      <th>WHQ500</th>\n",
       "      <th>WHQ520</th>\n",
       "    </tr>\n",
       "  </thead>\n",
       "  <tbody>\n",
       "    <tr>\n",
       "      <th>0</th>\n",
       "      <td>73557</td>\n",
       "      <td>8</td>\n",
       "      <td>2</td>\n",
       "      <td>1</td>\n",
       "      <td>69</td>\n",
       "      <td>NaN</td>\n",
       "      <td>4</td>\n",
       "      <td>4</td>\n",
       "      <td>1.0</td>\n",
       "      <td>NaN</td>\n",
       "      <td>...</td>\n",
       "      <td>NaN</td>\n",
       "      <td>40.0</td>\n",
       "      <td>270.0</td>\n",
       "      <td>200.0</td>\n",
       "      <td>69.0</td>\n",
       "      <td>270.0</td>\n",
       "      <td>62.0</td>\n",
       "      <td>NaN</td>\n",
       "      <td>NaN</td>\n",
       "      <td>NaN</td>\n",
       "    </tr>\n",
       "    <tr>\n",
       "      <th>1</th>\n",
       "      <td>73557</td>\n",
       "      <td>8</td>\n",
       "      <td>2</td>\n",
       "      <td>1</td>\n",
       "      <td>69</td>\n",
       "      <td>NaN</td>\n",
       "      <td>4</td>\n",
       "      <td>4</td>\n",
       "      <td>1.0</td>\n",
       "      <td>NaN</td>\n",
       "      <td>...</td>\n",
       "      <td>NaN</td>\n",
       "      <td>40.0</td>\n",
       "      <td>270.0</td>\n",
       "      <td>200.0</td>\n",
       "      <td>69.0</td>\n",
       "      <td>270.0</td>\n",
       "      <td>62.0</td>\n",
       "      <td>NaN</td>\n",
       "      <td>NaN</td>\n",
       "      <td>NaN</td>\n",
       "    </tr>\n",
       "    <tr>\n",
       "      <th>2</th>\n",
       "      <td>73558</td>\n",
       "      <td>8</td>\n",
       "      <td>2</td>\n",
       "      <td>1</td>\n",
       "      <td>54</td>\n",
       "      <td>NaN</td>\n",
       "      <td>3</td>\n",
       "      <td>3</td>\n",
       "      <td>1.0</td>\n",
       "      <td>NaN</td>\n",
       "      <td>...</td>\n",
       "      <td>NaN</td>\n",
       "      <td>NaN</td>\n",
       "      <td>240.0</td>\n",
       "      <td>250.0</td>\n",
       "      <td>72.0</td>\n",
       "      <td>250.0</td>\n",
       "      <td>25.0</td>\n",
       "      <td>NaN</td>\n",
       "      <td>NaN</td>\n",
       "      <td>NaN</td>\n",
       "    </tr>\n",
       "    <tr>\n",
       "      <th>3</th>\n",
       "      <td>73558</td>\n",
       "      <td>8</td>\n",
       "      <td>2</td>\n",
       "      <td>1</td>\n",
       "      <td>54</td>\n",
       "      <td>NaN</td>\n",
       "      <td>3</td>\n",
       "      <td>3</td>\n",
       "      <td>1.0</td>\n",
       "      <td>NaN</td>\n",
       "      <td>...</td>\n",
       "      <td>NaN</td>\n",
       "      <td>NaN</td>\n",
       "      <td>240.0</td>\n",
       "      <td>250.0</td>\n",
       "      <td>72.0</td>\n",
       "      <td>250.0</td>\n",
       "      <td>25.0</td>\n",
       "      <td>NaN</td>\n",
       "      <td>NaN</td>\n",
       "      <td>NaN</td>\n",
       "    </tr>\n",
       "    <tr>\n",
       "      <th>4</th>\n",
       "      <td>73558</td>\n",
       "      <td>8</td>\n",
       "      <td>2</td>\n",
       "      <td>1</td>\n",
       "      <td>54</td>\n",
       "      <td>NaN</td>\n",
       "      <td>3</td>\n",
       "      <td>3</td>\n",
       "      <td>1.0</td>\n",
       "      <td>NaN</td>\n",
       "      <td>...</td>\n",
       "      <td>NaN</td>\n",
       "      <td>NaN</td>\n",
       "      <td>240.0</td>\n",
       "      <td>250.0</td>\n",
       "      <td>72.0</td>\n",
       "      <td>250.0</td>\n",
       "      <td>25.0</td>\n",
       "      <td>NaN</td>\n",
       "      <td>NaN</td>\n",
       "      <td>NaN</td>\n",
       "    </tr>\n",
       "    <tr>\n",
       "      <th>5</th>\n",
       "      <td>73558</td>\n",
       "      <td>8</td>\n",
       "      <td>2</td>\n",
       "      <td>1</td>\n",
       "      <td>54</td>\n",
       "      <td>NaN</td>\n",
       "      <td>3</td>\n",
       "      <td>3</td>\n",
       "      <td>1.0</td>\n",
       "      <td>NaN</td>\n",
       "      <td>...</td>\n",
       "      <td>NaN</td>\n",
       "      <td>NaN</td>\n",
       "      <td>240.0</td>\n",
       "      <td>250.0</td>\n",
       "      <td>72.0</td>\n",
       "      <td>250.0</td>\n",
       "      <td>25.0</td>\n",
       "      <td>NaN</td>\n",
       "      <td>NaN</td>\n",
       "      <td>NaN</td>\n",
       "    </tr>\n",
       "    <tr>\n",
       "      <th>6</th>\n",
       "      <td>73559</td>\n",
       "      <td>8</td>\n",
       "      <td>2</td>\n",
       "      <td>1</td>\n",
       "      <td>72</td>\n",
       "      <td>NaN</td>\n",
       "      <td>3</td>\n",
       "      <td>3</td>\n",
       "      <td>2.0</td>\n",
       "      <td>NaN</td>\n",
       "      <td>...</td>\n",
       "      <td>NaN</td>\n",
       "      <td>NaN</td>\n",
       "      <td>180.0</td>\n",
       "      <td>190.0</td>\n",
       "      <td>70.0</td>\n",
       "      <td>228.0</td>\n",
       "      <td>35.0</td>\n",
       "      <td>NaN</td>\n",
       "      <td>NaN</td>\n",
       "      <td>NaN</td>\n",
       "    </tr>\n",
       "    <tr>\n",
       "      <th>7</th>\n",
       "      <td>73559</td>\n",
       "      <td>8</td>\n",
       "      <td>2</td>\n",
       "      <td>1</td>\n",
       "      <td>72</td>\n",
       "      <td>NaN</td>\n",
       "      <td>3</td>\n",
       "      <td>3</td>\n",
       "      <td>2.0</td>\n",
       "      <td>NaN</td>\n",
       "      <td>...</td>\n",
       "      <td>NaN</td>\n",
       "      <td>NaN</td>\n",
       "      <td>180.0</td>\n",
       "      <td>190.0</td>\n",
       "      <td>70.0</td>\n",
       "      <td>228.0</td>\n",
       "      <td>35.0</td>\n",
       "      <td>NaN</td>\n",
       "      <td>NaN</td>\n",
       "      <td>NaN</td>\n",
       "    </tr>\n",
       "    <tr>\n",
       "      <th>8</th>\n",
       "      <td>73559</td>\n",
       "      <td>8</td>\n",
       "      <td>2</td>\n",
       "      <td>1</td>\n",
       "      <td>72</td>\n",
       "      <td>NaN</td>\n",
       "      <td>3</td>\n",
       "      <td>3</td>\n",
       "      <td>2.0</td>\n",
       "      <td>NaN</td>\n",
       "      <td>...</td>\n",
       "      <td>NaN</td>\n",
       "      <td>NaN</td>\n",
       "      <td>180.0</td>\n",
       "      <td>190.0</td>\n",
       "      <td>70.0</td>\n",
       "      <td>228.0</td>\n",
       "      <td>35.0</td>\n",
       "      <td>NaN</td>\n",
       "      <td>NaN</td>\n",
       "      <td>NaN</td>\n",
       "    </tr>\n",
       "    <tr>\n",
       "      <th>9</th>\n",
       "      <td>73559</td>\n",
       "      <td>8</td>\n",
       "      <td>2</td>\n",
       "      <td>1</td>\n",
       "      <td>72</td>\n",
       "      <td>NaN</td>\n",
       "      <td>3</td>\n",
       "      <td>3</td>\n",
       "      <td>2.0</td>\n",
       "      <td>NaN</td>\n",
       "      <td>...</td>\n",
       "      <td>NaN</td>\n",
       "      <td>NaN</td>\n",
       "      <td>180.0</td>\n",
       "      <td>190.0</td>\n",
       "      <td>70.0</td>\n",
       "      <td>228.0</td>\n",
       "      <td>35.0</td>\n",
       "      <td>NaN</td>\n",
       "      <td>NaN</td>\n",
       "      <td>NaN</td>\n",
       "    </tr>\n",
       "  </tbody>\n",
       "</table>\n",
       "<p>10 rows × 1824 columns</p>\n",
       "</div>"
      ],
      "text/plain": [
       "    SEQN  SDDSRVYR  RIDSTATR  RIAGENDR  RIDAGEYR  RIDAGEMN  RIDRETH1  \\\n",
       "0  73557         8         2         1        69       NaN         4   \n",
       "1  73557         8         2         1        69       NaN         4   \n",
       "2  73558         8         2         1        54       NaN         3   \n",
       "3  73558         8         2         1        54       NaN         3   \n",
       "4  73558         8         2         1        54       NaN         3   \n",
       "5  73558         8         2         1        54       NaN         3   \n",
       "6  73559         8         2         1        72       NaN         3   \n",
       "7  73559         8         2         1        72       NaN         3   \n",
       "8  73559         8         2         1        72       NaN         3   \n",
       "9  73559         8         2         1        72       NaN         3   \n",
       "\n",
       "   RIDRETH3  RIDEXMON  RIDEXAGM   ...    WHD080U  WHD080L  WHD110  WHD120  \\\n",
       "0         4       1.0       NaN   ...        NaN     40.0   270.0   200.0   \n",
       "1         4       1.0       NaN   ...        NaN     40.0   270.0   200.0   \n",
       "2         3       1.0       NaN   ...        NaN      NaN   240.0   250.0   \n",
       "3         3       1.0       NaN   ...        NaN      NaN   240.0   250.0   \n",
       "4         3       1.0       NaN   ...        NaN      NaN   240.0   250.0   \n",
       "5         3       1.0       NaN   ...        NaN      NaN   240.0   250.0   \n",
       "6         3       2.0       NaN   ...        NaN      NaN   180.0   190.0   \n",
       "7         3       2.0       NaN   ...        NaN      NaN   180.0   190.0   \n",
       "8         3       2.0       NaN   ...        NaN      NaN   180.0   190.0   \n",
       "9         3       2.0       NaN   ...        NaN      NaN   180.0   190.0   \n",
       "\n",
       "   WHD130  WHD140  WHQ150  WHQ030M  WHQ500  WHQ520  \n",
       "0    69.0   270.0    62.0      NaN     NaN     NaN  \n",
       "1    69.0   270.0    62.0      NaN     NaN     NaN  \n",
       "2    72.0   250.0    25.0      NaN     NaN     NaN  \n",
       "3    72.0   250.0    25.0      NaN     NaN     NaN  \n",
       "4    72.0   250.0    25.0      NaN     NaN     NaN  \n",
       "5    72.0   250.0    25.0      NaN     NaN     NaN  \n",
       "6    70.0   228.0    35.0      NaN     NaN     NaN  \n",
       "7    70.0   228.0    35.0      NaN     NaN     NaN  \n",
       "8    70.0   228.0    35.0      NaN     NaN     NaN  \n",
       "9    70.0   228.0    35.0      NaN     NaN     NaN  \n",
       "\n",
       "[10 rows x 1824 columns]"
      ]
     },
     "execution_count": 4,
     "metadata": {},
     "output_type": "execute_result"
    }
   ],
   "source": [
    "# Join all data frames into a single data frame\n",
    "combined_df = demographic_df\n",
    "for frame in [diet_df, exam_df, labs_df, meds_df, questionnaire_df]:\n",
    "    combined_df = combined_df.merge(frame, left_on=\"SEQN\", right_on=\"SEQN\", how=\"outer\")\n",
    "combined_df.head(10)"
   ]
  },
  {
   "cell_type": "markdown",
   "metadata": {},
   "source": [
    "## Data Selection\n",
    "Our data set contains a total 1824 different columns, with overview of the columns found [here](https://www.kaggle.com/cdc/national-health-and-nutrition-examination-survey/home). To get started however, we will focus on features which have been identified as possible factors in blood presssure levels:\n",
    "* Age [1][2]\n",
    "* Gender [2]\n",
    "* Sodium intake [1]\n",
    "* Smoking [1][2]\n",
    "* Exercise levels [1][2]\n",
    "* Alcohol intake [1][2]\n",
    "* Diabetes [2]\n",
    "* Weight or Obesity [1][2]\n",
    "\n",
    "* Family history of high blood pressure [1][2]\n",
    "* Genetics (Which probably ties in with gender, and family history) [1]\n",
    "* Stress levels [1][2]\n",
    "* Chronic kidney Disease [1][2]\n",
    "\n",
    "\n",
    "References:\n",
    "* [1] [www.webmd.com](https://www.webmd.com/hypertension-high-blood-pressure/guide/blood-pressure-causes#1)\n",
    "* [2] [www.heart.org](http://www.heart.org/en/health-topics/high-blood-pressure/why-high-blood-pressure-is-a-silent-killer/know-your-risk-factors-for-high-blood-pressure)\n"
   ]
  },
  {
   "cell_type": "code",
   "execution_count": 5,
   "metadata": {},
   "outputs": [],
   "source": [
    "# We will create a list to store all of our selected columns for convenience. \n",
    "selected_columns = [];"
   ]
  },
  {
   "cell_type": "markdown",
   "metadata": {},
   "source": [
    "From the demographic data set, we can use the survey participants' age and gender identified in columns DMDHRAGE and RIAGENDR defined in the detailed column description found [here](https://wwwn.cdc.gov/Nchs/Nhanes/Search/variablelist.aspx?Component=Demographics&CycleBeginYear=2013)."
   ]
  },
  {
   "cell_type": "code",
   "execution_count": 6,
   "metadata": {},
   "outputs": [
    {
     "data": {
      "text/html": [
       "<div>\n",
       "<style scoped>\n",
       "    .dataframe tbody tr th:only-of-type {\n",
       "        vertical-align: middle;\n",
       "    }\n",
       "\n",
       "    .dataframe tbody tr th {\n",
       "        vertical-align: top;\n",
       "    }\n",
       "\n",
       "    .dataframe thead th {\n",
       "        text-align: right;\n",
       "    }\n",
       "</style>\n",
       "<table border=\"1\" class=\"dataframe\">\n",
       "  <thead>\n",
       "    <tr style=\"text-align: right;\">\n",
       "      <th></th>\n",
       "      <th>DMDHRAGE</th>\n",
       "      <th>RIAGENDR</th>\n",
       "    </tr>\n",
       "  </thead>\n",
       "  <tbody>\n",
       "    <tr>\n",
       "      <th>0</th>\n",
       "      <td>69</td>\n",
       "      <td>1</td>\n",
       "    </tr>\n",
       "    <tr>\n",
       "      <th>1</th>\n",
       "      <td>54</td>\n",
       "      <td>1</td>\n",
       "    </tr>\n",
       "    <tr>\n",
       "      <th>2</th>\n",
       "      <td>72</td>\n",
       "      <td>1</td>\n",
       "    </tr>\n",
       "    <tr>\n",
       "      <th>3</th>\n",
       "      <td>33</td>\n",
       "      <td>1</td>\n",
       "    </tr>\n",
       "    <tr>\n",
       "      <th>4</th>\n",
       "      <td>78</td>\n",
       "      <td>2</td>\n",
       "    </tr>\n",
       "  </tbody>\n",
       "</table>\n",
       "</div>"
      ],
      "text/plain": [
       "   DMDHRAGE  RIAGENDR\n",
       "0        69         1\n",
       "1        54         1\n",
       "2        72         1\n",
       "3        33         1\n",
       "4        78         2"
      ]
     },
     "execution_count": 6,
     "metadata": {},
     "output_type": "execute_result"
    }
   ],
   "source": [
    "demographic_columns = ['DMDHRAGE', 'RIAGENDR']\n",
    "selected_columns += demographic_columns\n",
    "demographic_df[demographic_columns].head()"
   ]
  },
  {
   "cell_type": "markdown",
   "metadata": {},
   "source": [
    "The dietary data set contains potentially usefull information about sodium intake and diet, however the detailed column description does not explain how this information is encoded. So we will use the more quantifiable sodium column LBXSNASI taken from the [laboratory data set](https://wwwn.cdc.gov/Nchs/Nhanes/Search/variablelist.aspx?Component=Laboratory&CycleBeginYear=2013). \n",
    "\n",
    "Note: there seems to be many more sodium columns missing this data set."
   ]
  },
  {
   "cell_type": "code",
   "execution_count": 7,
   "metadata": {},
   "outputs": [
    {
     "data": {
      "text/html": [
       "<div>\n",
       "<style scoped>\n",
       "    .dataframe tbody tr th:only-of-type {\n",
       "        vertical-align: middle;\n",
       "    }\n",
       "\n",
       "    .dataframe tbody tr th {\n",
       "        vertical-align: top;\n",
       "    }\n",
       "\n",
       "    .dataframe thead th {\n",
       "        text-align: right;\n",
       "    }\n",
       "</style>\n",
       "<table border=\"1\" class=\"dataframe\">\n",
       "  <thead>\n",
       "    <tr style=\"text-align: right;\">\n",
       "      <th></th>\n",
       "      <th>LBXSNASI</th>\n",
       "    </tr>\n",
       "  </thead>\n",
       "  <tbody>\n",
       "    <tr>\n",
       "      <th>0</th>\n",
       "      <td>136.0</td>\n",
       "    </tr>\n",
       "    <tr>\n",
       "      <th>1</th>\n",
       "      <td>128.0</td>\n",
       "    </tr>\n",
       "    <tr>\n",
       "      <th>2</th>\n",
       "      <td>142.0</td>\n",
       "    </tr>\n",
       "    <tr>\n",
       "      <th>3</th>\n",
       "      <td>NaN</td>\n",
       "    </tr>\n",
       "    <tr>\n",
       "      <th>4</th>\n",
       "      <td>142.0</td>\n",
       "    </tr>\n",
       "  </tbody>\n",
       "</table>\n",
       "</div>"
      ],
      "text/plain": [
       "   LBXSNASI\n",
       "0     136.0\n",
       "1     128.0\n",
       "2     142.0\n",
       "3       NaN\n",
       "4     142.0"
      ]
     },
     "execution_count": 7,
     "metadata": {},
     "output_type": "execute_result"
    }
   ],
   "source": [
    "labs_columns = ['LBXSNASI']\n",
    "selected_columns += labs_columns\n",
    "labs_df[labs_columns].head()"
   ]
  },
  {
   "cell_type": "markdown",
   "metadata": {},
   "source": [
    "The [questionnaire](https://wwwn.cdc.gov/Nchs/Nhanes/Search/variablelist.aspx?Component=Questionnaire&CycleBeginYear=2013) contains lots of varius data about smoking, exercise, and alcohol habits. A few columns we will use are:\n",
    "##### Smoking\n",
    "\n",
    "* SMQ040: Do you now smoke cigarettes?\n",
    "* SMQ020: Have you smoked at least 100 cigarettes in your entire life?\n",
    "* SMD650: During the past 30 days, on the days that you smoked, about how many cigarettes did you smoke per day?\n",
    "* SMD641: On how many of the past 30 days did you smoke a cigarette?\n",
    "\n",
    "##### Exercise\n",
    "\n",
    "* PAQ677: On how many of the past 7 days did you exercise or participate in physical activity for at least 20 minutes that made you sweat and breathe hard, such as basketball, soccer, running, swimming laps, fast bicycling, fast dancing, or similar activities?\n",
    "* PAQ678: On how many of the past 7 days did you do exercises to strengthen or tone your muscles, such as push-ups, sit-ups, or weight lifting?\n",
    "\n",
    "##### Alcohol\n",
    "\n",
    "* ALQ101: In any one year, have you had at least 12 drinks of any type of alcoholic beverage? By a drink, I mean a 12 oz. beer, a 5 oz. glass of wine, or one and half ounces of liquor.\n",
    "* ALQ130: In the past 12 months, on those days that you drank alcoholic beverages, on the average, how many drinks did you have?\n",
    "\n",
    "##### Diabetes\n",
    "* DIQ010: Other than during pregnancy, have you ever been told by a doctor or health professional that you have diabetes or sugar diabetes?"
   ]
  },
  {
   "cell_type": "code",
   "execution_count": 8,
   "metadata": {},
   "outputs": [
    {
     "data": {
      "text/html": [
       "<div>\n",
       "<style scoped>\n",
       "    .dataframe tbody tr th:only-of-type {\n",
       "        vertical-align: middle;\n",
       "    }\n",
       "\n",
       "    .dataframe tbody tr th {\n",
       "        vertical-align: top;\n",
       "    }\n",
       "\n",
       "    .dataframe thead th {\n",
       "        text-align: right;\n",
       "    }\n",
       "</style>\n",
       "<table border=\"1\" class=\"dataframe\">\n",
       "  <thead>\n",
       "    <tr style=\"text-align: right;\">\n",
       "      <th></th>\n",
       "      <th>SMQ040</th>\n",
       "      <th>SMQ020</th>\n",
       "      <th>SMD650</th>\n",
       "      <th>SMD641</th>\n",
       "      <th>PAQ677</th>\n",
       "      <th>PAQ678</th>\n",
       "      <th>ALQ101</th>\n",
       "      <th>ALQ130</th>\n",
       "      <th>DIQ010</th>\n",
       "    </tr>\n",
       "  </thead>\n",
       "  <tbody>\n",
       "    <tr>\n",
       "      <th>0</th>\n",
       "      <td>3.0</td>\n",
       "      <td>1.0</td>\n",
       "      <td>NaN</td>\n",
       "      <td>NaN</td>\n",
       "      <td>NaN</td>\n",
       "      <td>NaN</td>\n",
       "      <td>1.0</td>\n",
       "      <td>1.0</td>\n",
       "      <td>1.0</td>\n",
       "    </tr>\n",
       "    <tr>\n",
       "      <th>1</th>\n",
       "      <td>2.0</td>\n",
       "      <td>1.0</td>\n",
       "      <td>1.0</td>\n",
       "      <td>1.0</td>\n",
       "      <td>NaN</td>\n",
       "      <td>NaN</td>\n",
       "      <td>1.0</td>\n",
       "      <td>4.0</td>\n",
       "      <td>1.0</td>\n",
       "    </tr>\n",
       "    <tr>\n",
       "      <th>2</th>\n",
       "      <td>3.0</td>\n",
       "      <td>1.0</td>\n",
       "      <td>NaN</td>\n",
       "      <td>NaN</td>\n",
       "      <td>NaN</td>\n",
       "      <td>NaN</td>\n",
       "      <td>1.0</td>\n",
       "      <td>NaN</td>\n",
       "      <td>1.0</td>\n",
       "    </tr>\n",
       "    <tr>\n",
       "      <th>3</th>\n",
       "      <td>NaN</td>\n",
       "      <td>NaN</td>\n",
       "      <td>NaN</td>\n",
       "      <td>NaN</td>\n",
       "      <td>NaN</td>\n",
       "      <td>NaN</td>\n",
       "      <td>NaN</td>\n",
       "      <td>NaN</td>\n",
       "      <td>2.0</td>\n",
       "    </tr>\n",
       "    <tr>\n",
       "      <th>4</th>\n",
       "      <td>NaN</td>\n",
       "      <td>2.0</td>\n",
       "      <td>NaN</td>\n",
       "      <td>NaN</td>\n",
       "      <td>NaN</td>\n",
       "      <td>NaN</td>\n",
       "      <td>1.0</td>\n",
       "      <td>NaN</td>\n",
       "      <td>2.0</td>\n",
       "    </tr>\n",
       "  </tbody>\n",
       "</table>\n",
       "</div>"
      ],
      "text/plain": [
       "   SMQ040  SMQ020  SMD650  SMD641  PAQ677  PAQ678  ALQ101  ALQ130  DIQ010\n",
       "0     3.0     1.0     NaN     NaN     NaN     NaN     1.0     1.0     1.0\n",
       "1     2.0     1.0     1.0     1.0     NaN     NaN     1.0     4.0     1.0\n",
       "2     3.0     1.0     NaN     NaN     NaN     NaN     1.0     NaN     1.0\n",
       "3     NaN     NaN     NaN     NaN     NaN     NaN     NaN     NaN     2.0\n",
       "4     NaN     2.0     NaN     NaN     NaN     NaN     1.0     NaN     2.0"
      ]
     },
     "execution_count": 8,
     "metadata": {},
     "output_type": "execute_result"
    }
   ],
   "source": [
    "questionnaire_columns = ['SMQ040', 'SMQ020', 'SMD650', 'SMD641', 'PAQ677', 'PAQ678', 'ALQ101', 'ALQ130', 'DIQ010']\n",
    "selected_columns += questionnaire_columns\n",
    "questionnaire_df[questionnaire_columns].head()"
   ]
  },
  {
   "cell_type": "markdown",
   "metadata": {},
   "source": [
    "Examining the medications data set, we can see who is taking medication for blood pressure and/or diabetes. \n"
   ]
  },
  {
   "cell_type": "code",
   "execution_count": 9,
   "metadata": {},
   "outputs": [
    {
     "data": {
      "text/html": [
       "<div>\n",
       "<style scoped>\n",
       "    .dataframe tbody tr th:only-of-type {\n",
       "        vertical-align: middle;\n",
       "    }\n",
       "\n",
       "    .dataframe tbody tr th {\n",
       "        vertical-align: top;\n",
       "    }\n",
       "\n",
       "    .dataframe thead th {\n",
       "        text-align: right;\n",
       "    }\n",
       "</style>\n",
       "<table border=\"1\" class=\"dataframe\">\n",
       "  <thead>\n",
       "    <tr style=\"text-align: right;\">\n",
       "      <th></th>\n",
       "      <th>RXDDRUG</th>\n",
       "      <th>RXDRSD1</th>\n",
       "    </tr>\n",
       "  </thead>\n",
       "  <tbody>\n",
       "    <tr>\n",
       "      <th>0</th>\n",
       "      <td>99999</td>\n",
       "      <td>NaN</td>\n",
       "    </tr>\n",
       "    <tr>\n",
       "      <th>1</th>\n",
       "      <td>INSULIN</td>\n",
       "      <td>Type 2 diabetes mellitus</td>\n",
       "    </tr>\n",
       "    <tr>\n",
       "      <th>2</th>\n",
       "      <td>GABAPENTIN</td>\n",
       "      <td>Restless legs syndrome</td>\n",
       "    </tr>\n",
       "    <tr>\n",
       "      <th>3</th>\n",
       "      <td>INSULIN GLARGINE</td>\n",
       "      <td>Type 2 diabetes mellitus</td>\n",
       "    </tr>\n",
       "    <tr>\n",
       "      <th>4</th>\n",
       "      <td>OLMESARTAN</td>\n",
       "      <td>Type 2 diabetes mellitus with kidney complicat...</td>\n",
       "    </tr>\n",
       "    <tr>\n",
       "      <th>5</th>\n",
       "      <td>SIMVASTATIN</td>\n",
       "      <td>Pure hypercholesterolemia</td>\n",
       "    </tr>\n",
       "    <tr>\n",
       "      <th>6</th>\n",
       "      <td>INSULIN ASPART</td>\n",
       "      <td>Type 2 diabetes mellitus</td>\n",
       "    </tr>\n",
       "    <tr>\n",
       "      <th>7</th>\n",
       "      <td>INSULIN GLARGINE</td>\n",
       "      <td>Type 2 diabetes mellitus</td>\n",
       "    </tr>\n",
       "    <tr>\n",
       "      <th>8</th>\n",
       "      <td>PANCRELIPASE</td>\n",
       "      <td>Disease of pancreas, unspecified</td>\n",
       "    </tr>\n",
       "    <tr>\n",
       "      <th>9</th>\n",
       "      <td>SIMVASTATIN</td>\n",
       "      <td>Pure hypercholesterolemia</td>\n",
       "    </tr>\n",
       "    <tr>\n",
       "      <th>10</th>\n",
       "      <td>VALSARTAN</td>\n",
       "      <td>Essential (primary) hypertension</td>\n",
       "    </tr>\n",
       "  </tbody>\n",
       "</table>\n",
       "</div>"
      ],
      "text/plain": [
       "             RXDDRUG                                            RXDRSD1\n",
       "0              99999                                                NaN\n",
       "1            INSULIN                           Type 2 diabetes mellitus\n",
       "2         GABAPENTIN                             Restless legs syndrome\n",
       "3   INSULIN GLARGINE                           Type 2 diabetes mellitus\n",
       "4         OLMESARTAN  Type 2 diabetes mellitus with kidney complicat...\n",
       "5        SIMVASTATIN                          Pure hypercholesterolemia\n",
       "6     INSULIN ASPART                           Type 2 diabetes mellitus\n",
       "7   INSULIN GLARGINE                           Type 2 diabetes mellitus\n",
       "8       PANCRELIPASE                   Disease of pancreas, unspecified\n",
       "9        SIMVASTATIN                          Pure hypercholesterolemia\n",
       "10         VALSARTAN                   Essential (primary) hypertension"
      ]
     },
     "execution_count": 9,
     "metadata": {},
     "output_type": "execute_result"
    }
   ],
   "source": [
    "meds_columns = ['RXDDRUG', 'RXDRSD1']\n",
    "selected_columns += meds_columns\n",
    "meds_df[meds_columns].head(11)"
   ]
  },
  {
   "cell_type": "markdown",
   "metadata": {},
   "source": [
    "The data set doesn't seem to contain direct information on stress levels, chronic kidney disease, or family history of high blood pressure. But from the examination data set we can collect information on body mass index and blood pressure readings:\n",
    "\n",
    "#####  Body Mass Index\n",
    "\n",
    "* BMXBMI: Body Mass Index (kg/m**2)\t\n",
    "\n",
    "#####  Blood Pressure Readings\n",
    "* BPXDI 1-4: Diastolic blood pressure mm Hg (first through fourth readings)\n",
    "* BPXSY 1-4: Systolic blood pressure mm Hg (first through fourth readings)"
   ]
  },
  {
   "cell_type": "code",
   "execution_count": 10,
   "metadata": {},
   "outputs": [
    {
     "data": {
      "text/html": [
       "<div>\n",
       "<style scoped>\n",
       "    .dataframe tbody tr th:only-of-type {\n",
       "        vertical-align: middle;\n",
       "    }\n",
       "\n",
       "    .dataframe tbody tr th {\n",
       "        vertical-align: top;\n",
       "    }\n",
       "\n",
       "    .dataframe thead th {\n",
       "        text-align: right;\n",
       "    }\n",
       "</style>\n",
       "<table border=\"1\" class=\"dataframe\">\n",
       "  <thead>\n",
       "    <tr style=\"text-align: right;\">\n",
       "      <th></th>\n",
       "      <th>BMXBMI</th>\n",
       "      <th>BPXDI1</th>\n",
       "      <th>BPXDI2</th>\n",
       "      <th>BPXDI3</th>\n",
       "      <th>BPXDI4</th>\n",
       "      <th>BPXSY1</th>\n",
       "      <th>BPXSY2</th>\n",
       "      <th>BPXSY3</th>\n",
       "      <th>BPXSY4</th>\n",
       "    </tr>\n",
       "  </thead>\n",
       "  <tbody>\n",
       "    <tr>\n",
       "      <th>0</th>\n",
       "      <td>26.7</td>\n",
       "      <td>72.0</td>\n",
       "      <td>76.0</td>\n",
       "      <td>74.0</td>\n",
       "      <td>NaN</td>\n",
       "      <td>122.0</td>\n",
       "      <td>114.0</td>\n",
       "      <td>102.0</td>\n",
       "      <td>NaN</td>\n",
       "    </tr>\n",
       "    <tr>\n",
       "      <th>1</th>\n",
       "      <td>28.6</td>\n",
       "      <td>62.0</td>\n",
       "      <td>80.0</td>\n",
       "      <td>42.0</td>\n",
       "      <td>NaN</td>\n",
       "      <td>156.0</td>\n",
       "      <td>160.0</td>\n",
       "      <td>156.0</td>\n",
       "      <td>NaN</td>\n",
       "    </tr>\n",
       "    <tr>\n",
       "      <th>2</th>\n",
       "      <td>28.9</td>\n",
       "      <td>90.0</td>\n",
       "      <td>76.0</td>\n",
       "      <td>80.0</td>\n",
       "      <td>NaN</td>\n",
       "      <td>140.0</td>\n",
       "      <td>140.0</td>\n",
       "      <td>146.0</td>\n",
       "      <td>NaN</td>\n",
       "    </tr>\n",
       "    <tr>\n",
       "      <th>3</th>\n",
       "      <td>17.1</td>\n",
       "      <td>38.0</td>\n",
       "      <td>34.0</td>\n",
       "      <td>38.0</td>\n",
       "      <td>NaN</td>\n",
       "      <td>108.0</td>\n",
       "      <td>102.0</td>\n",
       "      <td>104.0</td>\n",
       "      <td>NaN</td>\n",
       "    </tr>\n",
       "    <tr>\n",
       "      <th>4</th>\n",
       "      <td>19.7</td>\n",
       "      <td>86.0</td>\n",
       "      <td>88.0</td>\n",
       "      <td>86.0</td>\n",
       "      <td>NaN</td>\n",
       "      <td>136.0</td>\n",
       "      <td>134.0</td>\n",
       "      <td>142.0</td>\n",
       "      <td>NaN</td>\n",
       "    </tr>\n",
       "  </tbody>\n",
       "</table>\n",
       "</div>"
      ],
      "text/plain": [
       "   BMXBMI  BPXDI1  BPXDI2  BPXDI3  BPXDI4  BPXSY1  BPXSY2  BPXSY3  BPXSY4\n",
       "0    26.7    72.0    76.0    74.0     NaN   122.0   114.0   102.0     NaN\n",
       "1    28.6    62.0    80.0    42.0     NaN   156.0   160.0   156.0     NaN\n",
       "2    28.9    90.0    76.0    80.0     NaN   140.0   140.0   146.0     NaN\n",
       "3    17.1    38.0    34.0    38.0     NaN   108.0   102.0   104.0     NaN\n",
       "4    19.7    86.0    88.0    86.0     NaN   136.0   134.0   142.0     NaN"
      ]
     },
     "execution_count": 10,
     "metadata": {},
     "output_type": "execute_result"
    }
   ],
   "source": [
    "exam_columns = ['BMXBMI', 'BPXDI1', 'BPXDI2', 'BPXDI3', 'BPXDI4', 'BPXSY1', 'BPXSY2', 'BPXSY3', 'BPXSY4']\n",
    "selected_columns += exam_columns\n",
    "exam_df[exam_columns].head()"
   ]
  },
  {
   "cell_type": "markdown",
   "metadata": {},
   "source": [
    "## Data Cleaning\n",
    "Now that we've identified the columns we wish to use, lets drop them into a single data frame."
   ]
  },
  {
   "cell_type": "code",
   "execution_count": 11,
   "metadata": {},
   "outputs": [
    {
     "data": {
      "text/html": [
       "<div>\n",
       "<style scoped>\n",
       "    .dataframe tbody tr th:only-of-type {\n",
       "        vertical-align: middle;\n",
       "    }\n",
       "\n",
       "    .dataframe tbody tr th {\n",
       "        vertical-align: top;\n",
       "    }\n",
       "\n",
       "    .dataframe thead th {\n",
       "        text-align: right;\n",
       "    }\n",
       "</style>\n",
       "<table border=\"1\" class=\"dataframe\">\n",
       "  <thead>\n",
       "    <tr style=\"text-align: right;\">\n",
       "      <th></th>\n",
       "      <th>DMDHRAGE</th>\n",
       "      <th>RIAGENDR</th>\n",
       "      <th>LBXSNASI</th>\n",
       "      <th>SMQ040</th>\n",
       "      <th>SMQ020</th>\n",
       "      <th>SMD650</th>\n",
       "      <th>SMD641</th>\n",
       "      <th>PAQ677</th>\n",
       "      <th>PAQ678</th>\n",
       "      <th>ALQ101</th>\n",
       "      <th>...</th>\n",
       "      <th>RXDRSD1</th>\n",
       "      <th>BMXBMI</th>\n",
       "      <th>BPXDI1</th>\n",
       "      <th>BPXDI2</th>\n",
       "      <th>BPXDI3</th>\n",
       "      <th>BPXDI4</th>\n",
       "      <th>BPXSY1</th>\n",
       "      <th>BPXSY2</th>\n",
       "      <th>BPXSY3</th>\n",
       "      <th>BPXSY4</th>\n",
       "    </tr>\n",
       "  </thead>\n",
       "  <tbody>\n",
       "    <tr>\n",
       "      <th>0</th>\n",
       "      <td>69</td>\n",
       "      <td>1</td>\n",
       "      <td>136.0</td>\n",
       "      <td>3.0</td>\n",
       "      <td>1.0</td>\n",
       "      <td>NaN</td>\n",
       "      <td>NaN</td>\n",
       "      <td>NaN</td>\n",
       "      <td>NaN</td>\n",
       "      <td>1.0</td>\n",
       "      <td>...</td>\n",
       "      <td>NaN</td>\n",
       "      <td>26.7</td>\n",
       "      <td>72.0</td>\n",
       "      <td>76.0</td>\n",
       "      <td>74.0</td>\n",
       "      <td>NaN</td>\n",
       "      <td>122.0</td>\n",
       "      <td>114.0</td>\n",
       "      <td>102.0</td>\n",
       "      <td>NaN</td>\n",
       "    </tr>\n",
       "    <tr>\n",
       "      <th>1</th>\n",
       "      <td>69</td>\n",
       "      <td>1</td>\n",
       "      <td>136.0</td>\n",
       "      <td>3.0</td>\n",
       "      <td>1.0</td>\n",
       "      <td>NaN</td>\n",
       "      <td>NaN</td>\n",
       "      <td>NaN</td>\n",
       "      <td>NaN</td>\n",
       "      <td>1.0</td>\n",
       "      <td>...</td>\n",
       "      <td>Type 2 diabetes mellitus</td>\n",
       "      <td>26.7</td>\n",
       "      <td>72.0</td>\n",
       "      <td>76.0</td>\n",
       "      <td>74.0</td>\n",
       "      <td>NaN</td>\n",
       "      <td>122.0</td>\n",
       "      <td>114.0</td>\n",
       "      <td>102.0</td>\n",
       "      <td>NaN</td>\n",
       "    </tr>\n",
       "    <tr>\n",
       "      <th>2</th>\n",
       "      <td>54</td>\n",
       "      <td>1</td>\n",
       "      <td>128.0</td>\n",
       "      <td>2.0</td>\n",
       "      <td>1.0</td>\n",
       "      <td>1.0</td>\n",
       "      <td>1.0</td>\n",
       "      <td>NaN</td>\n",
       "      <td>NaN</td>\n",
       "      <td>1.0</td>\n",
       "      <td>...</td>\n",
       "      <td>Restless legs syndrome</td>\n",
       "      <td>28.6</td>\n",
       "      <td>62.0</td>\n",
       "      <td>80.0</td>\n",
       "      <td>42.0</td>\n",
       "      <td>NaN</td>\n",
       "      <td>156.0</td>\n",
       "      <td>160.0</td>\n",
       "      <td>156.0</td>\n",
       "      <td>NaN</td>\n",
       "    </tr>\n",
       "    <tr>\n",
       "      <th>3</th>\n",
       "      <td>54</td>\n",
       "      <td>1</td>\n",
       "      <td>128.0</td>\n",
       "      <td>2.0</td>\n",
       "      <td>1.0</td>\n",
       "      <td>1.0</td>\n",
       "      <td>1.0</td>\n",
       "      <td>NaN</td>\n",
       "      <td>NaN</td>\n",
       "      <td>1.0</td>\n",
       "      <td>...</td>\n",
       "      <td>Type 2 diabetes mellitus</td>\n",
       "      <td>28.6</td>\n",
       "      <td>62.0</td>\n",
       "      <td>80.0</td>\n",
       "      <td>42.0</td>\n",
       "      <td>NaN</td>\n",
       "      <td>156.0</td>\n",
       "      <td>160.0</td>\n",
       "      <td>156.0</td>\n",
       "      <td>NaN</td>\n",
       "    </tr>\n",
       "    <tr>\n",
       "      <th>4</th>\n",
       "      <td>54</td>\n",
       "      <td>1</td>\n",
       "      <td>128.0</td>\n",
       "      <td>2.0</td>\n",
       "      <td>1.0</td>\n",
       "      <td>1.0</td>\n",
       "      <td>1.0</td>\n",
       "      <td>NaN</td>\n",
       "      <td>NaN</td>\n",
       "      <td>1.0</td>\n",
       "      <td>...</td>\n",
       "      <td>Type 2 diabetes mellitus with kidney complicat...</td>\n",
       "      <td>28.6</td>\n",
       "      <td>62.0</td>\n",
       "      <td>80.0</td>\n",
       "      <td>42.0</td>\n",
       "      <td>NaN</td>\n",
       "      <td>156.0</td>\n",
       "      <td>160.0</td>\n",
       "      <td>156.0</td>\n",
       "      <td>NaN</td>\n",
       "    </tr>\n",
       "  </tbody>\n",
       "</table>\n",
       "<p>5 rows × 23 columns</p>\n",
       "</div>"
      ],
      "text/plain": [
       "   DMDHRAGE  RIAGENDR  LBXSNASI  SMQ040  SMQ020  SMD650  SMD641  PAQ677  \\\n",
       "0        69         1     136.0     3.0     1.0     NaN     NaN     NaN   \n",
       "1        69         1     136.0     3.0     1.0     NaN     NaN     NaN   \n",
       "2        54         1     128.0     2.0     1.0     1.0     1.0     NaN   \n",
       "3        54         1     128.0     2.0     1.0     1.0     1.0     NaN   \n",
       "4        54         1     128.0     2.0     1.0     1.0     1.0     NaN   \n",
       "\n",
       "   PAQ678  ALQ101   ...                                              RXDRSD1  \\\n",
       "0     NaN     1.0   ...                                                  NaN   \n",
       "1     NaN     1.0   ...                             Type 2 diabetes mellitus   \n",
       "2     NaN     1.0   ...                               Restless legs syndrome   \n",
       "3     NaN     1.0   ...                             Type 2 diabetes mellitus   \n",
       "4     NaN     1.0   ...    Type 2 diabetes mellitus with kidney complicat...   \n",
       "\n",
       "   BMXBMI BPXDI1 BPXDI2  BPXDI3  BPXDI4  BPXSY1  BPXSY2  BPXSY3  BPXSY4  \n",
       "0    26.7   72.0   76.0    74.0     NaN   122.0   114.0   102.0     NaN  \n",
       "1    26.7   72.0   76.0    74.0     NaN   122.0   114.0   102.0     NaN  \n",
       "2    28.6   62.0   80.0    42.0     NaN   156.0   160.0   156.0     NaN  \n",
       "3    28.6   62.0   80.0    42.0     NaN   156.0   160.0   156.0     NaN  \n",
       "4    28.6   62.0   80.0    42.0     NaN   156.0   160.0   156.0     NaN  \n",
       "\n",
       "[5 rows x 23 columns]"
      ]
     },
     "execution_count": 11,
     "metadata": {},
     "output_type": "execute_result"
    }
   ],
   "source": [
    "selected_df = combined_df[selected_columns]\n",
    "selected_df.head()"
   ]
  },
  {
   "cell_type": "markdown",
   "metadata": {},
   "source": [
    "We'll define a couple helper methods for evaluating the contents of each column"
   ]
  },
  {
   "cell_type": "code",
   "execution_count": 12,
   "metadata": {},
   "outputs": [],
   "source": [
    "def print_uniques(df):\n",
    "    \"\"\"Prints each unique value for each column in the data frame \n",
    "       with a null count.\n",
    "       \n",
    "    Args:\n",
    "        df: Pandas DataFrame to print unique values from.\n",
    "        \n",
    "    \"\"\"\n",
    "    for column in df.columns:\n",
    "        print('{} ({}):{}'.format(column, df[column].dtypes, set(df[column].astype('str'))))\n",
    "        print_null_count(df[column])\n",
    "        print()\n",
    "        \n",
    "def print_null_count(series):\n",
    "    \"\"\"Prints the number of null values in the given series.\n",
    "    \n",
    "    Args:\n",
    "        series: Pandas Series to count null values from.\n",
    "        \n",
    "    \"\"\"\n",
    "    number_null = np.sum(series.isnull())\n",
    "    size = len(series)\n",
    "    percent_null = 0 if size <= 0 else (number_null / size)\n",
    "    print(\"{} null count: {} ({:.1f}%)\".format(series.name, number_null, percent_null))"
   ]
  },
  {
   "cell_type": "markdown",
   "metadata": {},
   "source": [
    "#####  Demographic Data"
   ]
  },
  {
   "cell_type": "code",
   "execution_count": 13,
   "metadata": {},
   "outputs": [
    {
     "name": "stdout",
     "output_type": "stream",
     "text": [
      "DMDHRAGE (int64):{'78', '37', '33', '44', '59', '67', '69', '66', '53', '36', '39', '57', '27', '35', '62', '40', '55', '22', '71', '65', '63', '28', '24', '42', '80', '29', '32', '34', '41', '49', '20', '74', '45', '25', '26', '19', '61', '21', '75', '50', '60', '30', '64', '52', '54', '56', '70', '38', '48', '72', '46', '31', '58', '23', '18', '73', '43', '79', '47', '51', '68', '77', '76'}\n",
      "DMDHRAGE null count: 0 (0.0%)\n",
      "\n",
      "RIAGENDR (int64):{'1', '2'}\n",
      "RIAGENDR null count: 0 (0.0%)\n",
      "\n"
     ]
    }
   ],
   "source": [
    "print_uniques(selected_df[demographic_columns])"
   ]
  },
  {
   "cell_type": "markdown",
   "metadata": {},
   "source": [
    "Thankfully neither column is missing any values. We will let the age column remain an int, but convert the gender column to a category with human readable definitions rather than \"1\" or \"2\". Definition can be found [here](https://wwwn.cdc.gov/Nchs/Nhanes/2013-2014/DEMO_H.htm) in the data set description."
   ]
  },
  {
   "cell_type": "code",
   "execution_count": 14,
   "metadata": {},
   "outputs": [
    {
     "name": "stderr",
     "output_type": "stream",
     "text": [
      "C:\\Users\\mccomackjp\\AppData\\Local\\Continuum\\anaconda3\\lib\\site-packages\\ipykernel_launcher.py:1: SettingWithCopyWarning: \n",
      "A value is trying to be set on a copy of a slice from a DataFrame.\n",
      "Try using .loc[row_indexer,col_indexer] = value instead\n",
      "\n",
      "See the caveats in the documentation: http://pandas.pydata.org/pandas-docs/stable/indexing.html#indexing-view-versus-copy\n",
      "  \"\"\"Entry point for launching an IPython kernel.\n",
      "C:\\Users\\mccomackjp\\AppData\\Local\\Continuum\\anaconda3\\lib\\site-packages\\ipykernel_launcher.py:2: SettingWithCopyWarning: \n",
      "A value is trying to be set on a copy of a slice from a DataFrame.\n",
      "Try using .loc[row_indexer,col_indexer] = value instead\n",
      "\n",
      "See the caveats in the documentation: http://pandas.pydata.org/pandas-docs/stable/indexing.html#indexing-view-versus-copy\n",
      "  \n"
     ]
    }
   ],
   "source": [
    "selected_df['RIAGENDR'] = selected_df['RIAGENDR'].map({1:'male', 2:'female'})\n",
    "selected_df['RIAGENDR'] = selected_df['RIAGENDR'].astype('category')"
   ]
  },
  {
   "cell_type": "markdown",
   "metadata": {},
   "source": [
    "#####  Laboratory Data"
   ]
  },
  {
   "cell_type": "code",
   "execution_count": 15,
   "metadata": {},
   "outputs": [
    {
     "name": "stdout",
     "output_type": "stream",
     "text": [
      "LBXSNASI (float64):{'147.0', '133.0', '124.0', '135.0', '136.0', '146.0', '145.0', '137.0', '131.0', '140.0', '154.0', '150.0', '151.0', '130.0', '141.0', '132.0', '142.0', '144.0', '119.0', '128.0', '143.0', '127.0', 'nan', '138.0', '134.0', '129.0', '148.0', '139.0'}\n",
      "LBXSNASI null count: 4677 (0.2%)\n",
      "\n"
     ]
    }
   ],
   "source": [
    "print_uniques(selected_df[labs_columns])"
   ]
  },
  {
   "cell_type": "markdown",
   "metadata": {},
   "source": [
    "Since we have very few missing values, and everyone consumes some amount of sodium, it will probably be a safe bet to fill the missing values with the average from data set. Also, since all the values are really integer values, we will convert the data type."
   ]
  },
  {
   "cell_type": "code",
   "execution_count": 16,
   "metadata": {},
   "outputs": [
    {
     "name": "stdout",
     "output_type": "stream",
     "text": [
      "LBXSNASI (int32):{'151', '139', '133', '127', '143', '135', '146', '134', '141', '150', '124', '119', '129', '130', '140', '132', '148', '138', '144', '131', '136', '142', '154', '128', '145', '137', '147'}\n",
      "LBXSNASI null count: 0 (0.0%)\n",
      "\n"
     ]
    },
    {
     "name": "stderr",
     "output_type": "stream",
     "text": [
      "C:\\Users\\mccomackjp\\AppData\\Local\\Continuum\\anaconda3\\lib\\site-packages\\pandas\\core\\generic.py:5434: SettingWithCopyWarning: \n",
      "A value is trying to be set on a copy of a slice from a DataFrame\n",
      "\n",
      "See the caveats in the documentation: http://pandas.pydata.org/pandas-docs/stable/indexing.html#indexing-view-versus-copy\n",
      "  self._update_inplace(new_data)\n",
      "C:\\Users\\mccomackjp\\AppData\\Local\\Continuum\\anaconda3\\lib\\site-packages\\ipykernel_launcher.py:2: SettingWithCopyWarning: \n",
      "A value is trying to be set on a copy of a slice from a DataFrame.\n",
      "Try using .loc[row_indexer,col_indexer] = value instead\n",
      "\n",
      "See the caveats in the documentation: http://pandas.pydata.org/pandas-docs/stable/indexing.html#indexing-view-versus-copy\n",
      "  \n"
     ]
    }
   ],
   "source": [
    "selected_df['LBXSNASI'].fillna(selected_df['LBXSNASI'].mean(), inplace=True)\n",
    "selected_df['LBXSNASI'] = selected_df['LBXSNASI'].astype('int')\n",
    "print_uniques(selected_df[labs_columns])"
   ]
  },
  {
   "cell_type": "markdown",
   "metadata": {},
   "source": [
    "#####  Questionnaire Data"
   ]
  },
  {
   "cell_type": "code",
   "execution_count": 17,
   "metadata": {},
   "outputs": [
    {
     "name": "stdout",
     "output_type": "stream",
     "text": [
      "SMQ040 (float64):{'3.0', 'nan', '2.0', '1.0'}\n",
      "SMQ040 null count: 12518 (0.6%)\n",
      "\n",
      "SMQ020 (float64):{'9.0', 'nan', '2.0', '1.0'}\n",
      "SMQ020 null count: 4586 (0.2%)\n",
      "\n",
      "SMD650 (float64):{'15.0', '7.0', '30.0', '90.0', '13.0', '999.0', '4.0', '8.0', '2.0', '40.0', '11.0', '29.0', '5.0', '1.0', '6.0', '17.0', '25.0', '3.0', '60.0', 'nan', '27.0', '18.0', '16.0', '28.0', '50.0', '9.0', '14.0', '20.0', '12.0', '10.0'}\n",
      "SMD650 null count: 17052 (0.8%)\n",
      "\n",
      "SMD641 (float64):{'15.0', '23.0', '7.0', '30.0', '24.0', '21.0', '19.0', '4.0', '8.0', '2.0', '29.0', '5.0', '1.0', '6.0', '17.0', '22.0', '25.0', '3.0', 'nan', '0.0', '27.0', '18.0', '16.0', '28.0', '14.0', '20.0', '12.0', '10.0', '26.0'}\n",
      "SMD641 null count: 16964 (0.8%)\n",
      "\n",
      "PAQ677 (float64):{'4.0', '1.0', '7.0', '2.0', '3.0', 'nan', '0.0', '99.0', '5.0', '6.0'}\n",
      "PAQ677 null count: 19395 (1.0%)\n",
      "\n",
      "PAQ678 (float64):{'4.0', '6.0', '7.0', '2.0', '3.0', 'nan', '0.0', '5.0', '1.0'}\n",
      "PAQ678 null count: 19395 (1.0%)\n",
      "\n",
      "ALQ101 (float64):{'9.0', 'nan', '2.0', '1.0'}\n",
      "ALQ101 null count: 6157 (0.3%)\n",
      "\n",
      "ALQ130 (float64):{'15.0', '7.0', '24.0', '13.0', '999.0', '4.0', '8.0', '2.0', '11.0', '5.0', '6.0', '1.0', '25.0', '3.0', 'nan', '18.0', '16.0', '14.0', '9.0', '20.0', '12.0', '10.0'}\n",
      "ALQ130 null count: 11863 (0.6%)\n",
      "\n",
      "DIQ010 (float64):{'7.0', '2.0', '3.0', 'nan', '9.0', '1.0'}\n",
      "DIQ010 null count: 423 (0.0%)\n",
      "\n"
     ]
    }
   ],
   "source": [
    "print_uniques(selected_df[questionnaire_columns])"
   ]
  },
  {
   "cell_type": "markdown",
   "metadata": {},
   "source": [
    "The smoking field definitions can be found [here](https://wwwn.cdc.gov/Nchs/Nhanes/2013-2014/SMQ_H.htm#SMQ040). We will categorize these fields with their associated responses. For the missing values, we will recategorize as \"2: Some days\" if they smoked at all during the last 30 days. If not, we will categorize as \"Not smoking\"."
   ]
  },
  {
   "cell_type": "code",
   "execution_count": 18,
   "metadata": {},
   "outputs": [
    {
     "name": "stderr",
     "output_type": "stream",
     "text": [
      "C:\\Users\\mccomackjp\\AppData\\Local\\Continuum\\anaconda3\\lib\\site-packages\\ipykernel_launcher.py:11: SettingWithCopyWarning: \n",
      "A value is trying to be set on a copy of a slice from a DataFrame.\n",
      "Try using .loc[row_indexer,col_indexer] = value instead\n",
      "\n",
      "See the caveats in the documentation: http://pandas.pydata.org/pandas-docs/stable/indexing.html#indexing-view-versus-copy\n",
      "  # This is added back by InteractiveShellApp.init_path()\n"
     ]
    }
   ],
   "source": [
    "selected_df['SMQ040'] = selected_df.apply(\n",
    "    lambda x:\n",
    "    # Find if they smoked 1 or more cigarettes in the past 30 days\n",
    "    2 if np.isnan(x['SMQ040']) and x['SMD650'] >= 1 and x['SMD650'] < 200\n",
    "    # Find if they smoked 1 or more days in the past 30 days\n",
    "    else 2 if np.isnan(x['SMQ040']) and x['SMD641'] >= 1 and x['SMD641'] <= 30\n",
    "    # Classify them as not currently smoking if there is no data from \n",
    "    # the last 30 days\n",
    "    else 3 if np.isnan(x['SMQ040'])\n",
    "    # Otherwise use the original value\n",
    "    else x['SMQ040'], axis=1)"
   ]
  },
  {
   "cell_type": "code",
   "execution_count": 19,
   "metadata": {},
   "outputs": [
    {
     "name": "stdout",
     "output_type": "stream",
     "text": [
      "SMQ040 (category):{'smokes every day', 'does not smoke', 'smokes some days'}\n",
      "SMQ040 null count: 0 (0.0%)\n",
      "\n"
     ]
    },
    {
     "name": "stderr",
     "output_type": "stream",
     "text": [
      "C:\\Users\\mccomackjp\\AppData\\Local\\Continuum\\anaconda3\\lib\\site-packages\\ipykernel_launcher.py:2: SettingWithCopyWarning: \n",
      "A value is trying to be set on a copy of a slice from a DataFrame.\n",
      "Try using .loc[row_indexer,col_indexer] = value instead\n",
      "\n",
      "See the caveats in the documentation: http://pandas.pydata.org/pandas-docs/stable/indexing.html#indexing-view-versus-copy\n",
      "  \n",
      "C:\\Users\\mccomackjp\\AppData\\Local\\Continuum\\anaconda3\\lib\\site-packages\\ipykernel_launcher.py:5: SettingWithCopyWarning: \n",
      "A value is trying to be set on a copy of a slice from a DataFrame.\n",
      "Try using .loc[row_indexer,col_indexer] = value instead\n",
      "\n",
      "See the caveats in the documentation: http://pandas.pydata.org/pandas-docs/stable/indexing.html#indexing-view-versus-copy\n",
      "  \"\"\"\n",
      "C:\\Users\\mccomackjp\\AppData\\Local\\Continuum\\anaconda3\\lib\\site-packages\\ipykernel_launcher.py:6: SettingWithCopyWarning: \n",
      "A value is trying to be set on a copy of a slice from a DataFrame.\n",
      "Try using .loc[row_indexer,col_indexer] = value instead\n",
      "\n",
      "See the caveats in the documentation: http://pandas.pydata.org/pandas-docs/stable/indexing.html#indexing-view-versus-copy\n",
      "  \n"
     ]
    }
   ],
   "source": [
    "# Convert to a category with readable definitions\n",
    "selected_df['SMQ040'] = selected_df['SMQ040'].astype('int')\n",
    "selected_df['SMQ040'] = selected_df['SMQ040'].map({1:'smokes every day', \n",
    "                                                   2:'smokes some days',\n",
    "                                                   3:'does not smoke'})\n",
    "selected_df['SMQ040'] = selected_df['SMQ040'].astype('category')\n",
    "print_uniques(selected_df[['SMQ040']])"
   ]
  },
  {
   "cell_type": "code",
   "execution_count": 20,
   "metadata": {},
   "outputs": [
    {
     "name": "stderr",
     "output_type": "stream",
     "text": [
      "C:\\Users\\mccomackjp\\AppData\\Local\\Continuum\\anaconda3\\lib\\site-packages\\pandas\\core\\generic.py:5434: SettingWithCopyWarning: \n",
      "A value is trying to be set on a copy of a slice from a DataFrame\n",
      "\n",
      "See the caveats in the documentation: http://pandas.pydata.org/pandas-docs/stable/indexing.html#indexing-view-versus-copy\n",
      "  self._update_inplace(new_data)\n",
      "C:\\Users\\mccomackjp\\AppData\\Local\\Continuum\\anaconda3\\lib\\site-packages\\ipykernel_launcher.py:5: SettingWithCopyWarning: \n",
      "A value is trying to be set on a copy of a slice from a DataFrame.\n",
      "Try using .loc[row_indexer,col_indexer] = value instead\n",
      "\n",
      "See the caveats in the documentation: http://pandas.pydata.org/pandas-docs/stable/indexing.html#indexing-view-versus-copy\n",
      "  \"\"\"\n",
      "C:\\Users\\mccomackjp\\AppData\\Local\\Continuum\\anaconda3\\lib\\site-packages\\ipykernel_launcher.py:6: SettingWithCopyWarning: \n",
      "A value is trying to be set on a copy of a slice from a DataFrame.\n",
      "Try using .loc[row_indexer,col_indexer] = value instead\n",
      "\n",
      "See the caveats in the documentation: http://pandas.pydata.org/pandas-docs/stable/indexing.html#indexing-view-versus-copy\n",
      "  \n",
      "C:\\Users\\mccomackjp\\AppData\\Local\\Continuum\\anaconda3\\lib\\site-packages\\ipykernel_launcher.py:7: SettingWithCopyWarning: \n",
      "A value is trying to be set on a copy of a slice from a DataFrame.\n",
      "Try using .loc[row_indexer,col_indexer] = value instead\n",
      "\n",
      "See the caveats in the documentation: http://pandas.pydata.org/pandas-docs/stable/indexing.html#indexing-view-versus-copy\n",
      "  import sys\n"
     ]
    }
   ],
   "source": [
    "# For \"Smoked at least 100 cigarettes in life\" (SMQ020) we will fill missing\n",
    "# values with with the \"Don't know\" classification and change the data \n",
    "# type to category.\n",
    "selected_df['SMQ020'].fillna(9, inplace=True)\n",
    "selected_df['SMQ020'] = selected_df['SMQ020'].astype('int')\n",
    "selected_df['SMQ020'] = selected_df['SMQ020'].map({1: 'yes', 2:'no', 9:'unknown'})\n",
    "selected_df['SMQ020'] = selected_df['SMQ020'].astype('category')\n"
   ]
  },
  {
   "cell_type": "code",
   "execution_count": 21,
   "metadata": {},
   "outputs": [
    {
     "name": "stderr",
     "output_type": "stream",
     "text": [
      "C:\\Users\\mccomackjp\\AppData\\Local\\Continuum\\anaconda3\\lib\\site-packages\\ipykernel_launcher.py:8: SettingWithCopyWarning: \n",
      "A value is trying to be set on a copy of a slice from a DataFrame.\n",
      "Try using .loc[row_indexer,col_indexer] = value instead\n",
      "\n",
      "See the caveats in the documentation: http://pandas.pydata.org/pandas-docs/stable/indexing.html#indexing-view-versus-copy\n",
      "  \n"
     ]
    }
   ],
   "source": [
    "# For Avg number cigarettes/day during past 30 days (SMD650) we will fill\n",
    "# missing values with 0 if they don't smoke, and with \"Don't know\" \n",
    "# if they do smoke.\n",
    "selected_df['SMD650'] = selected_df.apply(\n",
    "    lambda x:\n",
    "    0 if np.isnan(x['SMD650']) and x['SMQ040'] == 3\n",
    "    else 999 if np.isnan(x['SMD650'])\n",
    "    else x['SMD650'], axis=1)"
   ]
  },
  {
   "cell_type": "code",
   "execution_count": 22,
   "metadata": {},
   "outputs": [
    {
     "name": "stderr",
     "output_type": "stream",
     "text": [
      "C:\\Users\\mccomackjp\\AppData\\Local\\Continuum\\anaconda3\\lib\\site-packages\\ipykernel_launcher.py:5: SettingWithCopyWarning: \n",
      "A value is trying to be set on a copy of a slice from a DataFrame.\n",
      "Try using .loc[row_indexer,col_indexer] = value instead\n",
      "\n",
      "See the caveats in the documentation: http://pandas.pydata.org/pandas-docs/stable/indexing.html#indexing-view-versus-copy\n",
      "  \"\"\"\n",
      "C:\\Users\\mccomackjp\\AppData\\Local\\Continuum\\anaconda3\\lib\\site-packages\\ipykernel_launcher.py:6: SettingWithCopyWarning: \n",
      "A value is trying to be set on a copy of a slice from a DataFrame.\n",
      "Try using .loc[row_indexer,col_indexer] = value instead\n",
      "\n",
      "See the caveats in the documentation: http://pandas.pydata.org/pandas-docs/stable/indexing.html#indexing-view-versus-copy\n",
      "  \n"
     ]
    }
   ],
   "source": [
    "# Convert to category and classify categories.\n",
    "# 1 to 90 Range of Values for cigarettes smoked\n",
    "# 95: 95 cigarettes or more\n",
    "# 999: Unknown how many smoked\n",
    "selected_df['SMD650'] = selected_df['SMD650'].astype('int').astype('category')\n",
    "selected_df['SMD650'] = selected_df['SMD650'].apply(lambda x: \n",
    "                                                    'unknown' if x == 999 \n",
    "                                                    else x)"
   ]
  },
  {
   "cell_type": "code",
   "execution_count": 23,
   "metadata": {},
   "outputs": [
    {
     "name": "stderr",
     "output_type": "stream",
     "text": [
      "C:\\Users\\mccomackjp\\AppData\\Local\\Continuum\\anaconda3\\lib\\site-packages\\ipykernel_launcher.py:8: SettingWithCopyWarning: \n",
      "A value is trying to be set on a copy of a slice from a DataFrame.\n",
      "Try using .loc[row_indexer,col_indexer] = value instead\n",
      "\n",
      "See the caveats in the documentation: http://pandas.pydata.org/pandas-docs/stable/indexing.html#indexing-view-versus-copy\n",
      "  \n"
     ]
    }
   ],
   "source": [
    "# Number of days smoked cigs during past 30 days (SMD641).\n",
    "# We will fill missing values with 0 if they do not smoke,\n",
    "# else with 'unknown' if they do smoke but the value is missing.\n",
    "selected_df['SMD641'] = selected_df.apply(\n",
    "    lambda x:\n",
    "    0 if np.isnan(x['SMD641']) and x['SMQ040'] == 3\n",
    "    else 99 if np.isnan(x['SMD641'])\n",
    "    else x['SMD641'], axis=1)"
   ]
  },
  {
   "cell_type": "code",
   "execution_count": 24,
   "metadata": {},
   "outputs": [
    {
     "name": "stderr",
     "output_type": "stream",
     "text": [
      "C:\\Users\\mccomackjp\\AppData\\Local\\Continuum\\anaconda3\\lib\\site-packages\\ipykernel_launcher.py:2: SettingWithCopyWarning: \n",
      "A value is trying to be set on a copy of a slice from a DataFrame.\n",
      "Try using .loc[row_indexer,col_indexer] = value instead\n",
      "\n",
      "See the caveats in the documentation: http://pandas.pydata.org/pandas-docs/stable/indexing.html#indexing-view-versus-copy\n",
      "  \n",
      "C:\\Users\\mccomackjp\\AppData\\Local\\Continuum\\anaconda3\\lib\\site-packages\\ipykernel_launcher.py:3: SettingWithCopyWarning: \n",
      "A value is trying to be set on a copy of a slice from a DataFrame.\n",
      "Try using .loc[row_indexer,col_indexer] = value instead\n",
      "\n",
      "See the caveats in the documentation: http://pandas.pydata.org/pandas-docs/stable/indexing.html#indexing-view-versus-copy\n",
      "  This is separate from the ipykernel package so we can avoid doing imports until\n"
     ]
    }
   ],
   "source": [
    "# Convert to category.\n",
    "selected_df['SMD641'] = selected_df['SMD641'].astype('int').astype('category')\n",
    "selected_df['SMD641'] = selected_df['SMD641'].apply(lambda x: \n",
    "                                                    'unknown' if x == 99 \n",
    "                                                    else x)"
   ]
  },
  {
   "cell_type": "code",
   "execution_count": 25,
   "metadata": {
    "scrolled": true
   },
   "outputs": [
    {
     "name": "stderr",
     "output_type": "stream",
     "text": [
      "C:\\Users\\mccomackjp\\AppData\\Local\\Continuum\\anaconda3\\lib\\site-packages\\pandas\\core\\generic.py:5434: SettingWithCopyWarning: \n",
      "A value is trying to be set on a copy of a slice from a DataFrame\n",
      "\n",
      "See the caveats in the documentation: http://pandas.pydata.org/pandas-docs/stable/indexing.html#indexing-view-versus-copy\n",
      "  self._update_inplace(new_data)\n",
      "C:\\Users\\mccomackjp\\AppData\\Local\\Continuum\\anaconda3\\lib\\site-packages\\ipykernel_launcher.py:5: SettingWithCopyWarning: \n",
      "A value is trying to be set on a copy of a slice from a DataFrame.\n",
      "Try using .loc[row_indexer,col_indexer] = value instead\n",
      "\n",
      "See the caveats in the documentation: http://pandas.pydata.org/pandas-docs/stable/indexing.html#indexing-view-versus-copy\n",
      "  \"\"\"\n",
      "C:\\Users\\mccomackjp\\AppData\\Local\\Continuum\\anaconda3\\lib\\site-packages\\ipykernel_launcher.py:6: SettingWithCopyWarning: \n",
      "A value is trying to be set on a copy of a slice from a DataFrame.\n",
      "Try using .loc[row_indexer,col_indexer] = value instead\n",
      "\n",
      "See the caveats in the documentation: http://pandas.pydata.org/pandas-docs/stable/indexing.html#indexing-view-versus-copy\n",
      "  \n",
      "C:\\Users\\mccomackjp\\AppData\\Local\\Continuum\\anaconda3\\lib\\site-packages\\ipykernel_launcher.py:7: SettingWithCopyWarning: \n",
      "A value is trying to be set on a copy of a slice from a DataFrame.\n",
      "Try using .loc[row_indexer,col_indexer] = value instead\n",
      "\n",
      "See the caveats in the documentation: http://pandas.pydata.org/pandas-docs/stable/indexing.html#indexing-view-versus-copy\n",
      "  import sys\n",
      "C:\\Users\\mccomackjp\\AppData\\Local\\Continuum\\anaconda3\\lib\\site-packages\\ipykernel_launcher.py:10: SettingWithCopyWarning: \n",
      "A value is trying to be set on a copy of a slice from a DataFrame.\n",
      "Try using .loc[row_indexer,col_indexer] = value instead\n",
      "\n",
      "See the caveats in the documentation: http://pandas.pydata.org/pandas-docs/stable/indexing.html#indexing-view-versus-copy\n",
      "  # Remove the CWD from sys.path while we load stuff.\n"
     ]
    }
   ],
   "source": [
    "# PAQ677 and PAQ678 deal with exercise over the past 7 days.\n",
    "# we will replace any null values with 'unknown'.\n",
    "selected_df['PAQ677'].fillna(99, inplace=True)\n",
    "selected_df['PAQ678'].fillna(99, inplace=True)\n",
    "selected_df['PAQ677'] = selected_df['PAQ677'].astype('int').astype('category')\n",
    "selected_df['PAQ678'] = selected_df['PAQ678'].astype('int').astype('category')\n",
    "selected_df['PAQ677'] = selected_df['PAQ677'].apply(lambda x: \n",
    "                                                    'unknown' if x == 99 \n",
    "                                                    else x)\n",
    "selected_df['PAQ678'] = selected_df['PAQ678'].apply(lambda x: \n",
    "                                                    'unknown' if x == 99 \n",
    "                                                    else x)"
   ]
  },
  {
   "cell_type": "code",
   "execution_count": null,
   "metadata": {},
   "outputs": [
    {
     "name": "stderr",
     "output_type": "stream",
     "text": [
      "C:\\Users\\mccomackjp\\AppData\\Local\\Continuum\\anaconda3\\lib\\site-packages\\pandas\\core\\generic.py:5434: SettingWithCopyWarning: \n",
      "A value is trying to be set on a copy of a slice from a DataFrame\n",
      "\n",
      "See the caveats in the documentation: http://pandas.pydata.org/pandas-docs/stable/indexing.html#indexing-view-versus-copy\n",
      "  self._update_inplace(new_data)\n",
      "C:\\Users\\mccomackjp\\AppData\\Local\\Continuum\\anaconda3\\lib\\site-packages\\ipykernel_launcher.py:4: SettingWithCopyWarning: \n",
      "A value is trying to be set on a copy of a slice from a DataFrame.\n",
      "Try using .loc[row_indexer,col_indexer] = value instead\n",
      "\n",
      "See the caveats in the documentation: http://pandas.pydata.org/pandas-docs/stable/indexing.html#indexing-view-versus-copy\n",
      "  after removing the cwd from sys.path.\n",
      "C:\\Users\\mccomackjp\\AppData\\Local\\Continuum\\anaconda3\\lib\\site-packages\\ipykernel_launcher.py:5: SettingWithCopyWarning: \n",
      "A value is trying to be set on a copy of a slice from a DataFrame.\n",
      "Try using .loc[row_indexer,col_indexer] = value instead\n",
      "\n",
      "See the caveats in the documentation: http://pandas.pydata.org/pandas-docs/stable/indexing.html#indexing-view-versus-copy\n",
      "  \"\"\"\n",
      "C:\\Users\\mccomackjp\\AppData\\Local\\Continuum\\anaconda3\\lib\\site-packages\\ipykernel_launcher.py:6: SettingWithCopyWarning: \n",
      "A value is trying to be set on a copy of a slice from a DataFrame.\n",
      "Try using .loc[row_indexer,col_indexer] = value instead\n",
      "\n",
      "See the caveats in the documentation: http://pandas.pydata.org/pandas-docs/stable/indexing.html#indexing-view-versus-copy\n",
      "  \n"
     ]
    }
   ],
   "source": [
    "# ALQ101 considers if the patient had at least 12 alcohol drinks/1 yr.\n",
    "# Missing values we will categorize as unknown.\n",
    "selected_df['ALQ101'].fillna(9, inplace=True)\n",
    "selected_df['ALQ101'] = selected_df['ALQ101'].astype('int')\n",
    "selected_df['ALQ101'] = selected_df['ALQ101'].map({1:'yes', 2:'no', 9:'unknown'})\n",
    "selected_df['ALQ101'] = selected_df['ALQ101'].astype('category')\n"
   ]
  },
  {
   "cell_type": "code",
   "execution_count": null,
   "metadata": {},
   "outputs": [],
   "source": [
    "# ALQ130 deals with average number of alcoholic drinks/day in the past 12 months\n",
    "# It's categories contain a range of values and an \"unknown\" category.\n",
    "# missing values we will categorize as \"unknown\"\n",
    "selected_df['ALQ130'].fillna(9, inplace=True)\n",
    "selected_df['ALQ130'] = selected_df['ALQ130'].astype('int').astype('category')\n",
    "selected_df['ALQ130'] = selected_df['ALQ130'].apply(lambda x: \n",
    "                                                    'unknown' if x == 999 \n",
    "                                                    else x)"
   ]
  },
  {
   "cell_type": "code",
   "execution_count": null,
   "metadata": {},
   "outputs": [],
   "source": [
    "# DIQ010 determines whether a doctor has told the patient that they have \n",
    "# diabetes or not. We will classify missing values as \"unknown\".\n",
    "selected_df['DIQ010'].fillna(9, inplace=True)\n",
    "selected_df['DIQ010'] = selected_df['DIQ010'].astype('int')\n",
    "selected_df['DIQ010'] = selected_df['DIQ010'].map({1:'yes', \n",
    "                                                   2:'no',\n",
    "                                                   3:'borderline',\n",
    "                                                   7:'refused to answer',\n",
    "                                                   9:'unknown'})\n",
    "selected_df['DIQ010'] = selected_df['DIQ010'].astype('category')\n",
    "\n"
   ]
  },
  {
   "cell_type": "code",
   "execution_count": null,
   "metadata": {},
   "outputs": [],
   "source": [
    "# Let's take a look at the final results for the questionnaire data set\n",
    "print_uniques(selected_df[questionnaire_columns])"
   ]
  },
  {
   "cell_type": "markdown",
   "metadata": {},
   "source": [
    "#####  Medication data\n",
    "The medication columns contain a wide variety of values, since we are only concerned with blood pressure and diabetes for now, we will columns to track\n",
    "only those patients which are on medication for these issues."
   ]
  },
  {
   "cell_type": "code",
   "execution_count": null,
   "metadata": {},
   "outputs": [],
   "source": [
    "print_null_count(selected_df['RXDRSD1'])"
   ]
  },
  {
   "cell_type": "code",
   "execution_count": null,
   "metadata": {},
   "outputs": [],
   "source": [
    "selected_df['RXDRSD1'] = selected_df['RXDRSD1'].astype('str')\n",
    "selected_df['type1_diabets'] = selected_df.apply(\n",
    "    lambda x: \n",
    "    'yes' if 'Type 1 diabetes' in x['RXDRSD1'] else 'no', axis=1)\n",
    "selected_df['type2_diabets'] = selected_df.apply(\n",
    "    lambda x: \n",
    "    'yes' if 'Type 2 diabetes' in x['RXDRSD1'] else 'no', axis=1)\n",
    "selected_df['on_bp_meds'] = selected_df.apply(\n",
    "    lambda x: \n",
    "    'yes' if 'hypertension' in x['RXDRSD1'] else 'no', axis=1)\n",
    "for column in ['type1_diabets', 'type2_diabets', 'on_bp_meds']:\n",
    "    selected_df[column] = selected_df[column].astype('category')"
   ]
  },
  {
   "cell_type": "code",
   "execution_count": null,
   "metadata": {},
   "outputs": [],
   "source": [
    "#####  Exam data"
   ]
  },
  {
   "cell_type": "code",
   "execution_count": null,
   "metadata": {},
   "outputs": [],
   "source": [
    "print_uniques(selected_df[exam_columns])"
   ]
  },
  {
   "cell_type": "code",
   "execution_count": null,
   "metadata": {},
   "outputs": [],
   "source": [
    "# It makese sense for body mass index to remain a float, we will fill any\n",
    "# missing values with just the mean.\n",
    "selected_df['BMXBMI'].fillna(selected_df['BMXBMI'].mean(), inplace=True)\n"
   ]
  },
  {
   "cell_type": "code",
   "execution_count": null,
   "metadata": {},
   "outputs": [],
   "source": [
    "# Since Systolic and Diastolic blood pressure is recorded as ints, we will \n",
    "# convert their types and replace the missing values with averages since there\n",
    "# are only a few. \n",
    "for column in exam_columns[1:]:\n",
    "    selected_df[column].fillna(selected_df[column].mean(), inplace=True)\n",
    "    selected_df[column] = selected_df[column].astype('int')"
   ]
  },
  {
   "cell_type": "code",
   "execution_count": null,
   "metadata": {},
   "outputs": [],
   "source": [
    "# Since we are trying to predict blood pressure, let's create a target column\n",
    "# with the median from each of the 4 blood pressure readings to ignore outliers.\n",
    "selected_df['diastolic'] = selected_df.apply(\n",
    "    lambda x: \n",
    "    int(np.median([x['BPXDI1'], x['BPXDI2'], x['BPXDI3'], x['BPXDI4']])),\n",
    "    axis=1)\n",
    "\n",
    "selected_df['systolic'] = selected_df.apply(\n",
    "    lambda x: \n",
    "    int(np.median([x['BPXSY1'], x['BPXSY2'], x['BPXSY3'], x['BPXSY4']])), \n",
    "    axis=1)"
   ]
  },
  {
   "cell_type": "code",
   "execution_count": null,
   "metadata": {},
   "outputs": [],
   "source": [
    "print_uniques(selected_df[['diastolic', 'systolic']])"
   ]
  },
  {
   "cell_type": "code",
   "execution_count": null,
   "metadata": {},
   "outputs": [],
   "source": [
    "selected_df.columns"
   ]
  },
  {
   "cell_type": "code",
   "execution_count": null,
   "metadata": {},
   "outputs": [],
   "source": [
    "selected_df.describe()"
   ]
  },
  {
   "cell_type": "code",
   "execution_count": null,
   "metadata": {},
   "outputs": [],
   "source": [
    "# Before we start analyzing the data, let's drop any columns we don't need, \n",
    "# and rename the columns to something a little more human readable. \n",
    "df = selected_df.drop(columns=exam_columns[1:] + meds_columns, axis=1)\n",
    "df = df.rename(index=str, columns={\n",
    "    'DMDHRAGE':'age', \n",
    "    'RIAGENDR':'gender',\n",
    "    'LBXSNASI':'sodium',\n",
    "    'SMQ040':'smoker', \n",
    "    'SMQ020':'atleast_100_smokes_over_lifetime',\n",
    "    'SMD650':'smokes_per_day',\n",
    "    'SMD641':'days_smoked_last_month', \n",
    "    'PAQ677':'cardio_past_week',\n",
    "    'PAQ678':'strength_train_past_week', \n",
    "    'ALQ101':'atleast_12_drinks_per_year', \n",
    "    'ALQ130':'avg_drinks_per_day', \n",
    "    'DIQ010':'told_have_diabetes', \n",
    "    'BMXBMI':'bmi',\n",
    "})\n",
    "df.columns"
   ]
  },
  {
   "cell_type": "markdown",
   "metadata": {},
   "source": [
    "## Data Analysis\n",
    "Now we will create plots to visualize the data and see if we can find any correlations in the data with blood pressure levels."
   ]
  },
  {
   "cell_type": "code",
   "execution_count": null,
   "metadata": {},
   "outputs": [],
   "source": [
    "# Create a simple helper method to print plots easily\n",
    "def plot(columns, df):\n",
    "    \"\"\"Prints a seaborn plot for numerical and categorical data with blood pressure\n",
    "    \n",
    "    Args:\n",
    "    columns: a list of column names\n",
    "    df: a DataFrame object to plot from\n",
    "    \n",
    "    \"\"\"\n",
    "    height = len(columns) * 2\n",
    "    index = 0\n",
    "    for column in columns:\n",
    "        fig, axes = plt.subplots(height, 1, figsize=(8, 8))\n",
    "        plt.subplots_adjust(wspace=0.5)\n",
    "        if df[column].dtype == 'int64' or df[column].dtype == 'float64':\n",
    "            sns.scatterplot(x=column, y='systolic', data=df, ax=axes[index])\n",
    "            index += 1\n",
    "            sns.scatterplot(x=column, y='diastolic', data=df, ax=axes[index])\n",
    "            index += 1\n",
    "        elif df[column].dtype.name == 'category':\n",
    "            sns.boxplot(x=column, y='systolic', data=df, ax=axes[index])\n",
    "            index += 1\n",
    "            sns.boxplot(x=column, y='diastolic', data=df, ax=axes[index])\n",
    "            index += 1\n"
   ]
  },
  {
   "cell_type": "code",
   "execution_count": null,
   "metadata": {},
   "outputs": [],
   "source": [
    "plot(['smoker'], df)"
   ]
  },
  {
   "cell_type": "code",
   "execution_count": null,
   "metadata": {},
   "outputs": [],
   "source": [
    "df['smoker'].dtype.name == 'category'"
   ]
  },
  {
   "cell_type": "code",
   "execution_count": null,
   "metadata": {},
   "outputs": [],
   "source": [
    "sns.boxplot(x='smoker', y='systolic', data=df)\n",
    "print()\n",
    "sns.boxplot(x='smoker', y='diastolic', data=df)"
   ]
  },
  {
   "cell_type": "code",
   "execution_count": null,
   "metadata": {},
   "outputs": [],
   "source": [
    "fig, axes = plt.subplots(2,1, figsize=(8,8))\n",
    "plt.subplots_adjust(wspace=0.5)\n",
    "sns.boxplot(x='smoker', y='systolic', data=df, ax=axes[0])\n",
    "sns.boxplot(x='smoker', y='diastolic', data=df, ax=axes[1])"
   ]
  },
  {
   "cell_type": "code",
   "execution_count": null,
   "metadata": {},
   "outputs": [],
   "source": []
  },
  {
   "cell_type": "code",
   "execution_count": null,
   "metadata": {},
   "outputs": [],
   "source": []
  }
 ],
 "metadata": {
  "kernelspec": {
   "display_name": "Python 3",
   "language": "python",
   "name": "python3"
  },
  "language_info": {
   "codemirror_mode": {
    "name": "ipython",
    "version": 3
   },
   "file_extension": ".py",
   "mimetype": "text/x-python",
   "name": "python",
   "nbconvert_exporter": "python",
   "pygments_lexer": "ipython3",
   "version": "3.6.4"
  }
 },
 "nbformat": 4,
 "nbformat_minor": 2
}
